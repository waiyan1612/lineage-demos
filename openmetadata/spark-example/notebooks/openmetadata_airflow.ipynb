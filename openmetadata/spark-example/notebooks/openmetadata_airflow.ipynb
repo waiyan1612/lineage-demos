{
 "cells": [
  {
   "cell_type": "markdown",
   "id": "0d511c2f-696f-4e3a-9558-3d4ddff875dc",
   "metadata": {},
   "source": [
    "# OpenMetadata Airflow Demo\n",
    "\n",
    "We can access OpenMetadata at http://localhost:8585 with the following credentials:\n",
    "- Username: admin@open-metadata.org\n",
    "- Password: admin\n",
    "\n",
    "OpenMetadata ships with an Airflow container to run the ingestion workflows. We can access Airflow at http://localhost:8081. Use the following credentials to log in to Airflow.\n",
    "- Username: admin\n",
    "- Password: admin\n"
   ]
  },
  {
   "cell_type": "markdown",
   "id": "ab5a8022-b663-4909-865a-6218d4ce7554",
   "metadata": {},
   "source": [
    "## Generate sample data\n",
    "\n",
    "Unpause http://localhost:8081/dags/sample_data/grid to generate sample data for various components.\n",
    "\n",
    "![](demo_images/airflow_1.png)"
   ]
  },
  {
   "cell_type": "markdown",
   "id": "933de5fc-a0ce-4ffa-910c-62893bf49c51",
   "metadata": {},
   "source": [
    "## Explore sample data\n",
    "\n",
    "View the lineage - (e.g. http://localhost:8585/table/sample_data.ecommerce_db.shopify.raw_customer/lineage)\n",
    "\n",
    "![](demo_images/airflow_2.png)"
   ]
  }
 ],
 "metadata": {
  "kernelspec": {
   "display_name": "Python 3 (ipykernel)",
   "language": "python",
   "name": "python3"
  },
  "language_info": {
   "codemirror_mode": {
    "name": "ipython",
    "version": 3
   },
   "file_extension": ".py",
   "mimetype": "text/x-python",
   "name": "python",
   "nbconvert_exporter": "python",
   "pygments_lexer": "ipython3",
   "version": "3.11.10"
  }
 },
 "nbformat": 4,
 "nbformat_minor": 5
}
