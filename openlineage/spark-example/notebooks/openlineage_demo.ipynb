{
 "cells": [
  {
   "cell_type": "markdown",
   "id": "0d511c2f-696f-4e3a-9558-3d4ddff875dc",
   "metadata": {},
   "source": [
    "# OpenLineage Demo\n",
    "\n",
    "\n",
    "Marquez is a reference implementation of OpenLineage specification. You can access Marquez components on the following URLs:\n",
    "- Marquez Web UI: http://localhost:3000\n",
    "- Marquez GraphQL Playground: http://localhost:5002/graphql-playground\n",
    "- Marquez Admin UI: http://localhost:5001\n",
    "\n",
    "First, we will create a spark session with lineage tracking enabled. It may take a while since it will also download the required packages."
   ]
  },
  {
   "cell_type": "code",
   "execution_count": 1,
   "id": "aaf06f20-7390-458c-91ee-1f16ba2d6627",
   "metadata": {},
   "outputs": [],
   "source": [
    "from pyspark import SparkConf, SparkContext\n",
    "from pyspark.sql import SparkSession\n",
    "import pyspark.sql.functions as f\n",
    "\n",
    "# Ref: https://github.com/OpenLineage/OpenLineage/blob/1.22.0/website/docs/integrations/spark/installation.md\n",
    "spark = (SparkSession.builder\n",
    "    .appName(\"OpenLineage Demo\")\n",
    "    .config(\"spark.jars.packages\", \"io.openlineage:openlineage-spark_2.12:1.22.0\")\n",
    "    .config(\"spark.extraListeners\", \"io.openlineage.spark.agent.OpenLineageSparkListener\")\n",
    "    .config(\"spark.openlineage.transport.type\", \"http\")\n",
    "    .config(\"spark.openlineage.transport.url\", \"http://host.docker.internal:5002\")\n",
    "    .config(\"spark.openlineage.namespace\", \"demo\")\n",
    "    .getOrCreate()\n",
    ")"
   ]
  },
  {
   "cell_type": "markdown",
   "id": "801f7b9f-bbbb-4163-9893-92abb7fe5ed6",
   "metadata": {},
   "source": [
    "## Read datasets\n",
    "Let's read sample product, customer and raw sales data."
   ]
  },
  {
   "cell_type": "code",
   "execution_count": 2,
   "id": "f67c9851-7dac-4e7c-913b-a4dcf74ac5e9",
   "metadata": {},
   "outputs": [],
   "source": [
    "input_dir = \"/home/jovyan/data\"\n",
    "output_dir = \"/home/jovyan/output\"\n",
    "product = spark.read.option(\"header\", True).csv(f\"{input_dir}/product\")\n",
    "customer = spark.read.option(\"header\", True).csv(f\"{input_dir}/customer\")\n",
    "sales_raw = spark.read.option(\"header\", True).csv(f\"{input_dir}/sales_raw\")"
   ]
  },
  {
   "cell_type": "markdown",
   "id": "a56e1348-adb0-41ff-aa03-6ebdaab91edd",
   "metadata": {},
   "source": [
    "Marquez will register the events."
   ]
  },
  {
   "cell_type": "markdown",
   "id": "3e36c011-154e-4f64-8a23-e969ee11b51a",
   "metadata": {
    "jp-MarkdownHeadingCollapsed": true
   },
   "source": [
    "### Jobs\n",
    "\n",
    "We can see the jobs at [http://localhost:3000](http://localhost:3000). Make sure to select the `demo` namespace. We can see two jobs have been created.\n",
    "\n",
    "![](demo_images/jobs_1.png)"
   ]
  },
  {
   "cell_type": "markdown",
   "id": "931f01cd-d462-4274-8a45-98da03d182d5",
   "metadata": {},
   "source": [
    "### Datasets\n",
    "\n",
    "We can see the datasets at [http://localhost:3000/datasets](http://localhost:3000/datasets). Make sure to select the `file` namespace because OpenLineage will register the datasets under `file` for any spark job running with `--master=local` ([Github discussion](https://github.com/OpenLineage/OpenLineage/issues/2709)).\n",
    "\n",
    "![](demo_images/datasets_1.png)"
   ]
  },
  {
   "cell_type": "markdown",
   "id": "ebf18a9b-93b6-4bf4-9142-bb61c20fcee3",
   "metadata": {},
   "source": [
    "### GraphQL\n",
    "\n",
    "We can also query GraphQL at [http://localhost:5002/graphql-playground](http://localhost:5002/graphql-playground). The GraphQL Endpoint will be [http://localhost:5002/api/v1-beta/graphql](http://localhost:5002/api/v1-beta/graphql).\n",
    "\n",
    "![](demo_images/datasets_1.png)\n",
    "\n",
    "\n",
    "Sample Request\n",
    "  ```json\n",
    "  query {\n",
    "    datasets {\n",
    "      name\n",
    "      fields { name }\n",
    "    }\n",
    "  }\n",
    "  ```\n",
    "\n",
    "![](demo_images/graphql_1.png)\n"
   ]
  },
  {
   "cell_type": "markdown",
   "id": "f62fd5f5-3454-4b6e-8a1e-f7969c40ef37",
   "metadata": {},
   "source": [
    "## Generate new datasets\n",
    "\n",
    "Let's create newa datasets for US customers and SG customers."
   ]
  },
  {
   "cell_type": "code",
   "execution_count": 3,
   "id": "7c9a55ab-bbfa-4e26-83e6-3fdb6819e15f",
   "metadata": {},
   "outputs": [],
   "source": [
    "(customer\n",
    "    .filter(f.col(\"country\") == 'US')\n",
    "    .drop(f.col(\"country\"))\n",
    "    .write.mode(\"overwrite\")\n",
    "    .option(\"header\", True)\n",
    "    .csv(f\"{output_dir}/customer_us\")\n",
    ")\n",
    "\n",
    "(customer\n",
    "    .filter(f.col(\"country\") == 'SG')\n",
    "    .drop(f.col(\"country\"))\n",
    "    .write.mode(\"overwrite\")\n",
    "    .option(\"header\", True)\n",
    "    .csv(f\"{output_dir}/customer_sg\")\n",
    ")"
   ]
  },
  {
   "cell_type": "markdown",
   "id": "9b5acf89-216b-4a0e-a08f-1aa05843bfc2",
   "metadata": {},
   "source": [
    "### Datasets\n",
    "\n",
    "http://localhost:3000/datasets will now show `customer_sg` and `customer_us`.\n",
    "![](demo_images/datasets_2.png)\n",
    "\n",
    "We can also see the column lineage. We can see `country` column is dropped.\n",
    "![](demo_images/datasets_2_col.png)"
   ]
  },
  {
   "cell_type": "markdown",
   "id": "fae40828-9a8e-4d46-9753-4a9d46ffdb82",
   "metadata": {},
   "source": [
    "## Generate joined dataset\n",
    "\n",
    "Next, we will check how lineage works when multiple sources are joined."
   ]
  },
  {
   "cell_type": "code",
   "execution_count": 4,
   "id": "04e4c9b2-7162-4e93-a9fa-d8787406dbe7",
   "metadata": {},
   "outputs": [
    {
     "name": "stdout",
     "output_type": "stream",
     "text": [
      "+-------------+-------------+---+\n",
      "|customer_name| product_name|qty|\n",
      "+-------------+-------------+---+\n",
      "|        Alice|Awesome Apple|  1|\n",
      "|          Bob|Awesome Apple| 10|\n",
      "|          Bob|   Big Banana|  3|\n",
      "+-------------+-------------+---+\n",
      "\n"
     ]
    }
   ],
   "source": [
    "sales_report = (sales_raw\n",
    "    .join(product, sales_raw.product_id == product.id)\n",
    "    .join(customer, sales_raw.customer_id == customer.id)\n",
    "    .select(\n",
    "        customer[\"name\"].alias(\"customer_name\"),\n",
    "        product[\"name\"].alias(\"product_name\"),\n",
    "        sales_raw[\"qty\"],\n",
    "    )\n",
    ")\n",
    "sales_report.write.mode(\"overwrite\").option(\"header\", True).csv(f\"{output_dir}/sales_report\")\n",
    "sales_report.show()"
   ]
  },
  {
   "cell_type": "markdown",
   "id": "e748bddb-ad42-4d31-937e-dcfd36e2abd4",
   "metadata": {},
   "source": [
    "### Datasets\n",
    "\n",
    "http://localhost:3000/datasets will now show `sales_report`\n",
    "![](demo_images/datasets_3.png)\n",
    "\n",
    "We can also see the column lineage. It seems to include the join columns as part of the lineage.\n",
    "![](demo_images/datasets_3_col.png)"
   ]
  }
 ],
 "metadata": {
  "kernelspec": {
   "display_name": "Python 3 (ipykernel)",
   "language": "python",
   "name": "python3"
  },
  "language_info": {
   "codemirror_mode": {
    "name": "ipython",
    "version": 3
   },
   "file_extension": ".py",
   "mimetype": "text/x-python",
   "name": "python",
   "nbconvert_exporter": "python",
   "pygments_lexer": "ipython3",
   "version": "3.11.10"
  }
 },
 "nbformat": 4,
 "nbformat_minor": 5
}
