{
 "cells": [
  {
   "cell_type": "markdown",
   "id": "0d511c2f-696f-4e3a-9558-3d4ddff875dc",
   "metadata": {},
   "source": [
    "# Spline Demo\n",
    "\n",
    "You can access Spline services on the following URLs:\n",
    "- Spline Web UI: http://localhost:9090\n",
    "- Spline Server: http://localhost:8080\n",
    "\n",
    "Both [Execution Events](http://localhost:9090/app/events/list) and [Data Sources](http://localhost:9090/app/data-sources/list) will be empty since we have yet to run anything.\n",
    "\n",
    "Next, we will create a spark session with lineage tracking enabled. It may take a while since it will also download the required packages."
   ]
  },
  {
   "cell_type": "code",
   "execution_count": 1,
   "id": "aaf06f20-7390-458c-91ee-1f16ba2d6627",
   "metadata": {},
   "outputs": [
    {
     "data": {
      "text/plain": [
       "JavaObject id=o34"
      ]
     },
     "execution_count": 1,
     "metadata": {},
     "output_type": "execute_result"
    }
   ],
   "source": [
    "from pyspark import SparkConf, SparkContext\n",
    "from pyspark.sql import SparkSession\n",
    "import pyspark.sql.functions as f\n",
    "\n",
    "# Ref: https://github.com/AbsaOSS/spline-getting-started/blob/f4866aa/spline-on-databricks/README.md\n",
    "spark = (SparkSession\n",
    "    .builder\n",
    "    .appName(\"Spline Demo\")\n",
    "    .config(\"spark.driver.extraJavaOptions\", \"--add-opens=java.base/sun.net.www.protocol.jar=ALL-UNNAMED\")\n",
    "    .config(\"spark.spline.lineageDispatcher.http.producer.url\", \"http://host.docker.internal:8080/producer\")\n",
    "    .config(\"spark.jars.packages\", \"za.co.absa.spline.agent.spark:spark-3.5-spline-agent-bundle_2.12:2.2.0\")\n",
    "    .getOrCreate()\n",
    ")\n",
    "spark.sparkContext._jvm.za.co.absa.spline.harvester.SparkLineageInitializer.enableLineageTracking(spark._jsparkSession)"
   ]
  },
  {
   "cell_type": "markdown",
   "id": "801f7b9f-bbbb-4163-9893-92abb7fe5ed6",
   "metadata": {},
   "source": [
    "## Read datasets\n",
    "\n",
    "Let's read sample product, customer and raw sales data."
   ]
  },
  {
   "cell_type": "code",
   "execution_count": 2,
   "id": "f67c9851-7dac-4e7c-913b-a4dcf74ac5e9",
   "metadata": {},
   "outputs": [],
   "source": [
    "input_dir = \"/home/jovyan/data\"\n",
    "output_dir = \"/home/jovyan/output\"\n",
    "product = spark.read.option(\"header\", True).csv(f\"{input_dir}/product\")\n",
    "customer = spark.read.option(\"header\", True).csv(f\"{input_dir}/customer\")\n",
    "sales_raw = spark.read.option(\"header\", True).csv(f\"{input_dir}/sales_raw\")"
   ]
  },
  {
   "cell_type": "markdown",
   "id": "f62fd5f5-3454-4b6e-8a1e-f7969c40ef37",
   "metadata": {},
   "source": [
    "Generate datasets for US customers and SG customers."
   ]
  },
  {
   "cell_type": "code",
   "execution_count": 3,
   "id": "7c9a55ab-bbfa-4e26-83e6-3fdb6819e15f",
   "metadata": {},
   "outputs": [],
   "source": [
    "(customer\n",
    "    .filter(f.col(\"country\") == 'US')\n",
    "    .drop(f.col(\"country\"))\n",
    "    .write.mode(\"overwrite\")\n",
    "    .option(\"header\", True)\n",
    "    .csv(f\"{output_dir}/customer_us\")\n",
    ")\n",
    "\n",
    "(customer\n",
    "    .filter(f.col(\"country\") == 'SG')\n",
    "    .drop(f.col(\"country\"))\n",
    "    .write.mode(\"overwrite\")\n",
    "    .option(\"header\", True)\n",
    "    .csv(f\"{output_dir}/customer_sg\")\n",
    ")"
   ]
  },
  {
   "cell_type": "markdown",
   "id": "c712dffc-aaa6-458e-979d-fae03062ca2f",
   "metadata": {},
   "source": [
    "### Data Sources\n",
    "http://localhost:9090/app/events/list should now show 2 executions and `customer`, `customer_sg` and `customer_us` should also appear in http://localhost:9090/app/data-sources/list."
   ]
  },
  {
   "cell_type": "markdown",
   "id": "9b5acf89-216b-4a0e-a08f-1aa05843bfc2",
   "metadata": {},
   "source": [
    "![](demo_images/customer_1.png)"
   ]
  },
  {
   "cell_type": "markdown",
   "id": "2f13db94-e2f9-4571-99ca-10ff3910079c",
   "metadata": {},
   "source": [
    "We can also see the lineage at columnar level by visiting the execution plan details. Do note that this is at the [individual execution plan](https://github.com/AbsaOSS/spline/discussions/1331#discussioncomment-9646428) level and not end-to-end. \n",
    "\n",
    "We can see `country` column is dropped but `name` is carried over.\n",
    "\n",
    "![](demo_images/customer_2.png)\n",
    "![](demo_images/customer_3.png)"
   ]
  },
  {
   "cell_type": "markdown",
   "id": "fae40828-9a8e-4d46-9753-4a9d46ffdb82",
   "metadata": {},
   "source": [
    "## Generate Joined Dataset\n",
    "Next, we will check how lineage works when multiple sources are joined."
   ]
  },
  {
   "cell_type": "code",
   "execution_count": 4,
   "id": "04e4c9b2-7162-4e93-a9fa-d8787406dbe7",
   "metadata": {},
   "outputs": [
    {
     "name": "stdout",
     "output_type": "stream",
     "text": [
      "+-------------+-------------+---+\n",
      "|customer_name| product_name|qty|\n",
      "+-------------+-------------+---+\n",
      "|        Alice|Awesome Apple|  1|\n",
      "|          Bob|Awesome Apple| 10|\n",
      "|          Bob|   Big Banana|  3|\n",
      "+-------------+-------------+---+\n",
      "\n"
     ]
    }
   ],
   "source": [
    "sales_report = (sales_raw\n",
    "    .join(product, sales_raw.product_id == product.id)\n",
    "    .join(customer, sales_raw.customer_id == customer.id)\n",
    "    .select(\n",
    "        customer[\"name\"].alias(\"customer_name\"),\n",
    "        product[\"name\"].alias(\"product_name\"),\n",
    "        sales_raw[\"qty\"],\n",
    "    )\n",
    ")\n",
    "sales_report.write.mode(\"overwrite\").option(\"header\", True).csv(f\"{output_dir}/sales_report\")\n",
    "sales_report.show()"
   ]
  },
  {
   "cell_type": "markdown",
   "id": "e748bddb-ad42-4d31-937e-dcfd36e2abd4",
   "metadata": {},
   "source": [
    "It would show something similar to this.\n",
    "![Sales Execution Event](demo_images/sales_1.png \"Sales Execution Event\")\n",
    "![Sales Execution Plan](demo_images/sales_2.png \"Sales Execution Plan\")"
   ]
  }
 ],
 "metadata": {
  "kernelspec": {
   "display_name": "Python 3 (ipykernel)",
   "language": "python",
   "name": "python3"
  },
  "language_info": {
   "codemirror_mode": {
    "name": "ipython",
    "version": 3
   },
   "file_extension": ".py",
   "mimetype": "text/x-python",
   "name": "python",
   "nbconvert_exporter": "python",
   "pygments_lexer": "ipython3",
   "version": "3.11.10"
  }
 },
 "nbformat": 4,
 "nbformat_minor": 5
}
